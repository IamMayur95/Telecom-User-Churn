{
 "cells": [
  {
   "cell_type": "markdown",
   "id": "2ebadac7",
   "metadata": {},
   "source": [
    "This is a Jupyter notebook created for binary classification model generation.\n",
    "- We will be loading the data in this notebook from SQL database.\n",
    "- Perform EDA\n",
    "- Split data into training and testing datasets\n",
    "- Perform model training on multiple models\n",
    "- Select best performing model\n",
    "- Final evaluation on the model"
   ]
  },
  {
   "cell_type": "code",
   "execution_count": null,
   "id": "11532e58",
   "metadata": {},
   "outputs": [],
   "source": []
  }
 ],
 "metadata": {
  "kernelspec": {
   "display_name": "telecomuserchurn",
   "language": "python",
   "name": "python3"
  },
  "language_info": {
   "name": "python",
   "version": "3.10.18"
  }
 },
 "nbformat": 4,
 "nbformat_minor": 5
}
